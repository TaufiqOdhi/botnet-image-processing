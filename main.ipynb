{
 "cells": [
  {
   "attachments": {},
   "cell_type": "markdown",
   "metadata": {},
   "source": [
    "## Sequential Neural Network"
   ]
  },
  {
   "cell_type": "code",
   "execution_count": 1,
   "metadata": {},
   "outputs": [
    {
     "data": {
      "text/plain": [
       "<keras.engine.sequential.Sequential at 0x18f52926770>"
      ]
     },
     "execution_count": 1,
     "metadata": {},
     "output_type": "execute_result"
    }
   ],
   "source": [
    "# Sequential Neural Network\n",
    "\n",
    "import tensorflow as tf\n",
    "\n",
    "# create a sequential model\n",
    "model = tf.keras.models.Sequential()\n",
    "\n",
    "# add a fully connected layer with 128 neurons and a Sigmoid activation function\n",
    "model.add(tf.keras.layers.Dense(128, activation='sigmoid'))\n",
    "\n",
    "\n",
    "model"
   ]
  },
  {
   "cell_type": "code",
   "execution_count": 3,
   "metadata": {},
   "outputs": [
    {
     "data": {
      "text/plain": [
       "<keras.engine.sequential.Sequential at 0x1dd66c35f30>"
      ]
     },
     "execution_count": 3,
     "metadata": {},
     "output_type": "execute_result"
    }
   ],
   "source": [
    "# create a sequential model\n",
    "model2 = tf.keras.models.Sequential()\n",
    "\n",
    "# add a fully connected layer with 128 neurons and a ReLU activation function\n",
    "model2.add(tf.keras.layers.Dense(128, activation='relu'))\n",
    "\n",
    "\n",
    "model2"
   ]
  },
  {
   "cell_type": "markdown",
   "metadata": {},
   "source": [
    "## Auto Encoder"
   ]
  },
  {
   "attachments": {},
   "cell_type": "markdown",
   "metadata": {},
   "source": [
    "### Input Layer"
   ]
  },
  {
   "cell_type": "code",
   "execution_count": null,
   "metadata": {},
   "outputs": [],
   "source": [
    "import tensorflow as tf\n",
    "\n",
    "# Define the shape of the input layer\n",
    "input_shape = (None, 10) # Batch size is None, 10 features\n",
    "\n",
    "# Create the input layer\n",
    "input_layer = tf.keras.layers.Input(shape=input_shape)\n",
    "\n",
    "# Print information about the input layer\n",
    "print(\"Input layer shape:\", input_layer.shape)\n",
    "print(\"Input layer dtype:\", input_layer.dtype)"
   ]
  },
  {
   "cell_type": "code",
   "execution_count": 2,
   "metadata": {},
   "outputs": [
    {
     "name": "stdout",
     "output_type": "stream",
     "text": [
      "Input layer shape: (None, None, 10)\n",
      "Input layer dtype: <dtype: 'float32'>\n"
     ]
    }
   ],
   "source": [
    "## Sequential models\n",
    "\n",
    "import tensorflow as tf\n",
    "\n",
    "# Define the shape of the input layer\n",
    "input_shape = (None, 10) # Batch size is None, 10 features\n",
    "\n",
    "# Create the input layer\n",
    "input_layer = tf.keras.layers.Input(shape=input_shape)\n",
    "\n",
    "# Print information about the input layer\n",
    "print(\"Input layer shape:\", input_layer.shape)\n",
    "print(\"Input layer dtype:\", input_layer.dtype)\n"
   ]
  },
  {
   "attachments": {},
   "cell_type": "markdown",
   "metadata": {},
   "source": [
    "### 16 2D Convolutional Layers with a (2,2) kernel"
   ]
  },
  {
   "cell_type": "code",
   "execution_count": 1,
   "metadata": {},
   "outputs": [],
   "source": [
    "import tensorflow as tf\n",
    "# from tensorflow.keras.layers import Conv2D\n",
    "# from tensorflow.keras.models import Sequential\n",
    "\n",
    "model = tf.keras.models.Sequential()\n",
    "\n",
    "for i in range(16):\n",
    "    model.add(tf.keras.layers.Conv2D(filters=32, kernel_size=(2,2), activation='relu', padding='same'))\n"
   ]
  },
  {
   "attachments": {},
   "cell_type": "markdown",
   "metadata": {},
   "source": [
    "### Max Pooling 2D layer with a (2,2) kernel"
   ]
  },
  {
   "cell_type": "code",
   "execution_count": null,
   "metadata": {},
   "outputs": [],
   "source": [
    "import tensorflow as tf\n",
    "\n",
    "maxpool_layer = tf.keras.layers.MaxPooling2D(pool_size=(2, 2))"
   ]
  },
  {
   "attachments": {},
   "cell_type": "markdown",
   "metadata": {},
   "source": [
    "## Decoder for Auto Encoder"
   ]
  },
  {
   "attachments": {},
   "cell_type": "markdown",
   "metadata": {},
   "source": [
    "### 16 Convolutional 2D Transpose layers with a (3,3) kernel"
   ]
  },
  {
   "cell_type": "code",
   "execution_count": 13,
   "metadata": {},
   "outputs": [
    {
     "name": "stdout",
     "output_type": "stream",
     "text": [
      "Model: \"sequential_11\"\n",
      "_________________________________________________________________\n",
      " Layer (type)                Output Shape              Param #   \n",
      "=================================================================\n",
      " conv2d_transpose_160 (Conv2  (None, 128, 128, 64)     1792      \n",
      " DTranspose)                                                     \n",
      "                                                                 \n",
      " conv2d_transpose_161 (Conv2  (None, 256, 256, 64)     36928     \n",
      " DTranspose)                                                     \n",
      "                                                                 \n",
      " conv2d_transpose_162 (Conv2  (None, 512, 512, 64)     36928     \n",
      " DTranspose)                                                     \n",
      "                                                                 \n",
      " conv2d_transpose_163 (Conv2  (None, 1024, 1024, 64)   36928     \n",
      " DTranspose)                                                     \n",
      "                                                                 \n",
      " conv2d_transpose_164 (Conv2  (None, 2048, 2048, 64)   36928     \n",
      " DTranspose)                                                     \n",
      "                                                                 \n",
      " conv2d_transpose_165 (Conv2  (None, 4096, 4096, 64)   36928     \n",
      " DTranspose)                                                     \n",
      "                                                                 \n",
      " conv2d_transpose_166 (Conv2  (None, 8192, 8192, 64)   36928     \n",
      " DTranspose)                                                     \n",
      "                                                                 \n",
      " conv2d_transpose_167 (Conv2  (None, 16384, 16384, 64)  36928    \n",
      " DTranspose)                                                     \n",
      "                                                                 \n",
      " conv2d_transpose_168 (Conv2  (None, 32768, 32768, 64)  36928    \n",
      " DTranspose)                                                     \n",
      "                                                                 \n",
      " conv2d_transpose_169 (Conv2  (None, 65536, 65536, 64)  36928    \n",
      " DTranspose)                                                     \n",
      "                                                                 \n",
      " conv2d_transpose_170 (Conv2  (None, 131072, 131072, 6  36928    \n",
      " DTranspose)                 4)                                  \n",
      "                                                                 \n",
      " conv2d_transpose_171 (Conv2  (None, 262144, 262144, 6  36928    \n",
      " DTranspose)                 4)                                  \n",
      "                                                                 \n",
      " conv2d_transpose_172 (Conv2  (None, 524288, 524288, 6  36928    \n",
      " DTranspose)                 4)                                  \n",
      "                                                                 \n",
      " conv2d_transpose_173 (Conv2  (None, 1048576, 1048576,  36928    \n",
      " DTranspose)                  64)                                \n",
      "                                                                 \n",
      " conv2d_transpose_174 (Conv2  (None, 2097152, 2097152,  36928    \n",
      " DTranspose)                  64)                                \n",
      "                                                                 \n",
      " conv2d_transpose_175 (Conv2  (None, 4194304, 4194304,  36928    \n",
      " DTranspose)                  64)                                \n",
      "                                                                 \n",
      "=================================================================\n",
      "Total params: 555,712\n",
      "Trainable params: 555,712\n",
      "Non-trainable params: 0\n",
      "_________________________________________________________________\n"
     ]
    }
   ],
   "source": [
    "import tensorflow as tf\n",
    "\n",
    "model = tf.keras.Sequential()\n",
    "\n",
    "# add 16 Convolutional 2D Transpose layers with a (3,3) kernel\n",
    "for i in range(16):\n",
    "    model.add(tf.keras.layers.Conv2DTranspose(filters=64, kernel_size=(3,3), strides=(2,2), padding='same', activation='relu'))\n",
    "\n",
    "\n",
    "# build the model\n",
    "model.build(input_shape=(None, 64, 64, 3))\n",
    "\n",
    "# # compile the model\n",
    "# model.compile(optimizer='adam', loss='binary_crossentropy', metrics=['accuracy'])\n",
    "\n",
    "# print the summary of the model\n",
    "model.summary()\n"
   ]
  },
  {
   "attachments": {},
   "cell_type": "markdown",
   "metadata": {},
   "source": [
    "### 3 Convolutional 2D layers using a (2,2) kernel"
   ]
  },
  {
   "cell_type": "code",
   "execution_count": 15,
   "metadata": {},
   "outputs": [
    {
     "name": "stdout",
     "output_type": "stream",
     "text": [
      "Model: \"sequential_13\"\n",
      "_________________________________________________________________\n",
      " Layer (type)                Output Shape              Param #   \n",
      "=================================================================\n",
      " conv2d_17 (Conv2D)          (None, None, None, 16)    208       \n",
      "                                                                 \n",
      " conv2d_18 (Conv2D)          (None, None, None, 32)    2080      \n",
      "                                                                 \n",
      " conv2d_19 (Conv2D)          (None, None, None, 64)    8256      \n",
      "                                                                 \n",
      "=================================================================\n",
      "Total params: 10,544\n",
      "Trainable params: 10,544\n",
      "Non-trainable params: 0\n",
      "_________________________________________________________________\n"
     ]
    }
   ],
   "source": [
    "import tensorflow as tf\n",
    "\n",
    "model = tf.keras.Sequential()\n",
    "\n",
    "model.add(tf.keras.layers.Conv2D(filters=16, kernel_size=(2,2), activation='relu', input_shape=(None, None, 3)))\n",
    "model.add(tf.keras.layers.Conv2D(filters=32, kernel_size=(2,2), activation='relu'))\n",
    "model.add(tf.keras.layers.Conv2D(filters=64, kernel_size=(2,2), activation='relu'))\n",
    "\n",
    "model.summary()"
   ]
  }
 ],
 "metadata": {
  "kernelspec": {
   "display_name": "botnet-image",
   "language": "python",
   "name": "python3"
  },
  "language_info": {
   "codemirror_mode": {
    "name": "ipython",
    "version": 3
   },
   "file_extension": ".py",
   "mimetype": "text/x-python",
   "name": "python",
   "nbconvert_exporter": "python",
   "pygments_lexer": "ipython3",
   "version": "3.10.9"
  },
  "orig_nbformat": 4
 },
 "nbformat": 4,
 "nbformat_minor": 2
}
